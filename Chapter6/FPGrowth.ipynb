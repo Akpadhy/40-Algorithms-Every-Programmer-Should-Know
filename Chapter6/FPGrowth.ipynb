{
 "cells": [
  {
   "cell_type": "code",
   "execution_count": 8,
   "metadata": {},
   "outputs": [],
   "source": [
    "from pyspark.ml.fpm import FPGrowth\n",
    "\n",
    "transactionSet = spark.createDataFrame([\n",
    "    (0, [\"wickets\",\"pads\"]),\n",
    "    (1, [\"bat\",\"wickets\",\"pads\",\"helmet\"]),\n",
    "    (2, [\"helmet\",\"pad\"]),\n",
    "    (3, [\"bat\",\"pads\",\"helmet\"]) \n",
    "], [\"id\", \"items\"])\n"
   ]
  },
  {
   "cell_type": "code",
   "execution_count": 64,
   "metadata": {},
   "outputs": [],
   "source": [
    "myFP_Growth = FPGrowth(itemsCol=\"items\", minSupport=0.5, minConfidence=0.3)\n"
   ]
  },
  {
   "cell_type": "code",
   "execution_count": 65,
   "metadata": {},
   "outputs": [],
   "source": [
    "model = myFP_Growth.fit(transactionSet)"
   ]
  },
  {
   "cell_type": "code",
   "execution_count": 66,
   "metadata": {},
   "outputs": [
    {
     "name": "stdout",
     "output_type": "stream",
     "text": [
      "+-------------------+----+\n",
      "|              items|freq|\n",
      "+-------------------+----+\n",
      "|          [wickets]|   2|\n",
      "|    [wickets, pads]|   2|\n",
      "|             [pads]|   3|\n",
      "|           [helmet]|   3|\n",
      "|     [helmet, pads]|   2|\n",
      "|              [bat]|   2|\n",
      "|      [bat, helmet]|   2|\n",
      "|[bat, helmet, pads]|   2|\n",
      "|        [bat, pads]|   2|\n",
      "+-------------------+----+\n",
      "\n"
     ]
    }
   ],
   "source": [
    "model.freqItemsets.show()"
   ]
  },
  {
   "cell_type": "code",
   "execution_count": 67,
   "metadata": {},
   "outputs": [
    {
     "name": "stdout",
     "output_type": "stream",
     "text": [
      "+--------------+----------+------------------+------------------+\n",
      "|    antecedent|consequent|        confidence|              lift|\n",
      "+--------------+----------+------------------+------------------+\n",
      "|[helmet, pads]|     [bat]|               1.0|               2.0|\n",
      "|      [helmet]|    [pads]|0.6666666666666666|0.8888888888888888|\n",
      "|      [helmet]|     [bat]|0.6666666666666666|1.3333333333333333|\n",
      "| [bat, helmet]|    [pads]|               1.0|1.3333333333333333|\n",
      "|     [wickets]|    [pads]|               1.0|1.3333333333333333|\n",
      "|   [bat, pads]|  [helmet]|               1.0|1.3333333333333333|\n",
      "|         [bat]|  [helmet]|               1.0|1.3333333333333333|\n",
      "|         [bat]|    [pads]|               1.0|1.3333333333333333|\n",
      "|        [pads]| [wickets]|0.6666666666666666|1.3333333333333333|\n",
      "|        [pads]|  [helmet]|0.6666666666666666|0.8888888888888888|\n",
      "|        [pads]|     [bat]|0.6666666666666666|1.3333333333333333|\n",
      "+--------------+----------+------------------+------------------+\n",
      "\n"
     ]
    }
   ],
   "source": [
    "model.associationRules.show()"
   ]
  },
  {
   "cell_type": "code",
   "execution_count": 68,
   "metadata": {},
   "outputs": [
    {
     "name": "stdout",
     "output_type": "stream",
     "text": [
      "+---+--------------------+-------------+\n",
      "| id|               items|   prediction|\n",
      "+---+--------------------+-------------+\n",
      "|  0|     [wickets, pads]|[helmet, bat]|\n",
      "|  1|[bat, wickets, pa...|           []|\n",
      "|  2|       [helmet, pad]|  [pads, bat]|\n",
      "|  3| [bat, pads, helmet]|    [wickets]|\n",
      "+---+--------------------+-------------+\n",
      "\n"
     ]
    }
   ],
   "source": [
    "model.transform(transactionSet).show()"
   ]
  },
  {
   "cell_type": "code",
   "execution_count": null,
   "metadata": {},
   "outputs": [],
   "source": []
  },
  {
   "cell_type": "code",
   "execution_count": null,
   "metadata": {},
   "outputs": [],
   "source": [
    "\n"
   ]
  },
  {
   "cell_type": "code",
   "execution_count": null,
   "metadata": {},
   "outputs": [],
   "source": []
  },
  {
   "cell_type": "code",
   "execution_count": null,
   "metadata": {},
   "outputs": [],
   "source": []
  },
  {
   "cell_type": "code",
   "execution_count": null,
   "metadata": {},
   "outputs": [],
   "source": []
  },
  {
   "cell_type": "code",
   "execution_count": null,
   "metadata": {},
   "outputs": [],
   "source": []
  }
 ],
 "metadata": {
  "kernelspec": {
   "display_name": "Python 3",
   "language": "python",
   "name": "python3"
  },
  "language_info": {
   "codemirror_mode": {
    "name": "ipython",
    "version": 3
   },
   "file_extension": ".py",
   "mimetype": "text/x-python",
   "name": "python",
   "nbconvert_exporter": "python",
   "pygments_lexer": "ipython3",
   "version": "3.6.8"
  }
 },
 "nbformat": 4,
 "nbformat_minor": 2
}
