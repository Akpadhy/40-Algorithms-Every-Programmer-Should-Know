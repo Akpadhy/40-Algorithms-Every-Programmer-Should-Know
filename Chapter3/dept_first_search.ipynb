{
 "cells": [
  {
   "cell_type": "code",
   "execution_count": 6,
   "metadata": {},
   "outputs": [],
   "source": [
    "def dfs(aGraph, root): \n",
    "    stack = [root] \n",
    "    parents = {root: root} \n",
    "    path = list() \n",
    "    while stack: \n",
    "        print ('Stack is: %s' % stack) \n",
    "        vertex = stack.pop(-1) \n",
    "        print ('Working on %s' % vertex) \n",
    "        for element in aGraph[vertex]: \n",
    "            if element not in parents: \n",
    "                parents[element] = vertex \n",
    "                stack.append(element)\n",
    "                print ('Now, adding %s to the stack' % element) \n",
    "                path.append(parents[vertex]+'>'+vertex) \n",
    "    return path[1:] "
   ]
  },
  {
   "cell_type": "code",
   "execution_count": 7,
   "metadata": {},
   "outputs": [],
   "source": [
    "g = dict() \n",
    "g['Amine'] = ['Wassim', 'Nick', 'Mike','Elena'] \n",
    "g['Wassim'] = ['Amine', 'Imran'] \n",
    "g['Nick'] = ['Amine'] \n",
    "g['Mike'] = ['Amine', 'Mary'] \n",
    "g['Elena'] = ['Amine'] \n",
    "g['Imran'] = ['Wassim', 'Steven'] \n",
    "g['Mary'] = ['Mike']\n",
    "g['Steven'] = ['Imran']"
   ]
  },
  {
   "cell_type": "code",
   "execution_count": 10,
   "metadata": {},
   "outputs": [
    {
     "name": "stdout",
     "output_type": "stream",
     "text": [
      "Stack is: ['Amine']\n",
      "Working on Amine\n",
      "Now, adding Wassim to the stack\n",
      "Now, adding Nick to the stack\n",
      "Now, adding Mike to the stack\n",
      "Now, adding Elena to the stack\n",
      "Stack is: ['Wassim', 'Nick', 'Mike', 'Elena']\n",
      "Working on Elena\n",
      "Stack is: ['Wassim', 'Nick', 'Mike']\n",
      "Working on Mike\n",
      "Now, adding Mary to the stack\n",
      "Stack is: ['Wassim', 'Nick', 'Mary']\n",
      "Working on Mary\n",
      "Stack is: ['Wassim', 'Nick']\n",
      "Working on Nick\n",
      "Stack is: ['Wassim']\n",
      "Working on Wassim\n",
      "Now, adding Imran to the stack\n",
      "Stack is: ['Imran']\n",
      "Working on Imran\n",
      "Now, adding Steven to the stack\n",
      "Stack is: ['Steven']\n",
      "Working on Steven\n"
     ]
    },
    {
     "data": {
      "text/plain": [
       "['Amine>Amine',\n",
       " 'Amine>Amine',\n",
       " 'Amine>Amine',\n",
       " 'Amine>Mike',\n",
       " 'Amine>Wassim',\n",
       " 'Wassim>Imran']"
      ]
     },
     "execution_count": 10,
     "metadata": {},
     "output_type": "execute_result"
    }
   ],
   "source": [
    "dfs(g,\"Amine\")"
   ]
  },
  {
   "cell_type": "code",
   "execution_count": null,
   "metadata": {},
   "outputs": [],
   "source": []
  }
 ],
 "metadata": {
  "kernelspec": {
   "display_name": "Python 3",
   "language": "python",
   "name": "python3"
  },
  "language_info": {
   "codemirror_mode": {
    "name": "ipython",
    "version": 3
   },
   "file_extension": ".py",
   "mimetype": "text/x-python",
   "name": "python",
   "nbconvert_exporter": "python",
   "pygments_lexer": "ipython3",
   "version": "3.6.8"
  }
 },
 "nbformat": 4,
 "nbformat_minor": 2
}
