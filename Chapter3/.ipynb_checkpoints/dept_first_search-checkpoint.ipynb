{
 "cells": [
  {
   "cell_type": "code",
   "execution_count": 4,
   "metadata": {},
   "outputs": [],
   "source": [
    "def dfs(aGraph, root): \n",
    "    stack = [root] \n",
    "    parents = {root: root} \n",
    "    path = list() \n",
    "    while stack: \n",
    "        print ('Stack is: %s' % stack) \n",
    "        vertex = stack.pop(-1) \n",
    "        print ('Working on %s' % vertex) \n",
    "        for element in aGraph[vertex]: \n",
    "            if element not in parents: \n",
    "                parents[element] = vertex \n",
    "                stack.append(element)\n",
    "                print ('Now, adding %s to the stack' % element) \n",
    "                path.append(parents[vertex]+'>'+vertex) \n",
    "    return path[1:] "
   ]
  },
  {
   "cell_type": "code",
   "execution_count": null,
   "metadata": {},
   "outputs": [],
   "source": []
  }
 ],
 "metadata": {
  "kernelspec": {
   "display_name": "Python 3",
   "language": "python",
   "name": "python3"
  },
  "language_info": {
   "codemirror_mode": {
    "name": "ipython",
    "version": 3
   },
   "file_extension": ".py",
   "mimetype": "text/x-python",
   "name": "python",
   "nbconvert_exporter": "python",
   "pygments_lexer": "ipython3",
   "version": "3.6.8"
  }
 },
 "nbformat": 4,
 "nbformat_minor": 2
}
