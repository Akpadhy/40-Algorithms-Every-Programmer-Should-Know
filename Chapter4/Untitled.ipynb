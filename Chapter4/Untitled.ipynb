{
 "cells": [
  {
   "cell_type": "code",
   "execution_count": 5,
   "metadata": {},
   "outputs": [],
   "source": [
    "memo = dict()\n",
    "def fib_mem(n, tab=0):\n",
    "    if n==0:\n",
    "        return 0\n",
    "    elif n == 1:\n",
    "        return 1\n",
    "    else:\n",
    "        if (n-1, n-2) not in memo:\n",
    "            print (\"lvl %i, Summing fib(%i) and fib(%i)\" %(tab, n-1, n-2))\n",
    "            memo[(n-1,n-2)] = fib_mem(n-1,tab+1) + fib_mem(n-2,tab+1)\n",
    "        return memo[(n-1,n-2)]"
   ]
  },
  {
   "cell_type": "code",
   "execution_count": 6,
   "metadata": {},
   "outputs": [
    {
     "name": "stdout",
     "output_type": "stream",
     "text": [
      "lvl 0, Summing fib(6) and fib(5)\n",
      "lvl 1, Summing fib(5) and fib(4)\n",
      "lvl 2, Summing fib(4) and fib(3)\n",
      "lvl 3, Summing fib(3) and fib(2)\n",
      "lvl 4, Summing fib(2) and fib(1)\n",
      "lvl 5, Summing fib(1) and fib(0)\n"
     ]
    },
    {
     "data": {
      "text/plain": [
       "13"
      ]
     },
     "execution_count": 6,
     "metadata": {},
     "output_type": "execute_result"
    }
   ],
   "source": [
    "fib_mem(7)"
   ]
  },
  {
   "cell_type": "code",
   "execution_count": null,
   "metadata": {},
   "outputs": [],
   "source": []
  }
 ],
 "metadata": {
  "kernelspec": {
   "display_name": "Python 3",
   "language": "python",
   "name": "python3"
  },
  "language_info": {
   "codemirror_mode": {
    "name": "ipython",
    "version": 3
   },
   "file_extension": ".py",
   "mimetype": "text/x-python",
   "name": "python",
   "nbconvert_exporter": "python",
   "pygments_lexer": "ipython3",
   "version": "3.7.3"
  }
 },
 "nbformat": 4,
 "nbformat_minor": 2
}
