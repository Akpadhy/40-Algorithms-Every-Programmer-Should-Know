{
 "cells": [
  {
   "cell_type": "code",
   "execution_count": 2,
   "metadata": {},
   "outputs": [],
   "source": [
    "g = dict() \n",
    "g['Amine'] = ['Wassim', 'Nick', 'Mike','Elena'] \n",
    "g['Wassim'] = ['Amine', 'Imran'] \n",
    "g['Nick'] = ['Amine'] \n",
    "g['Mike'] = ['Amine', 'Mary'] \n",
    "g['Elena'] = ['Amine'] \n",
    "g['Imran'] = ['Wassim', 'Steven'] \n",
    "g['Mary'] = ['Mike']\n",
    "g['Steven'] = ['Imran']"
   ]
  },
  {
   "cell_type": "code",
   "execution_count": 3,
   "metadata": {},
   "outputs": [],
   "source": [
    "from collections import deque     \n",
    "def bfs(aGraph, root):         \n",
    "    vertices_done = list()         \n",
    "    graph_queue = deque([root])         \n",
    "    vertices_done.append(root)         \n",
    "    node = root         \n",
    "\n",
    "    while len(graph_queue) > 0:             \n",
    "        node = graph_queue.popleft()             \n",
    "        adj_nodes = aGraph[node]             \n",
    "        elements_left=set(adj_nodes).difference(set(vertices_done))                     \n",
    "        if len(elements_left) > 0:                 \n",
    "            for elem in sorted(elements_left):\n",
    "                vertices_done.append(elem)\n",
    "                graph_queue.append(elem)\n",
    "    return vertices_done"
   ]
  },
  {
   "cell_type": "code",
   "execution_count": 4,
   "metadata": {},
   "outputs": [
    {
     "data": {
      "text/plain": [
       "['Amine', 'Elena', 'Mike', 'Nick', 'Wassim', 'Mary', 'Imran', 'Steven']"
      ]
     },
     "execution_count": 4,
     "metadata": {},
     "output_type": "execute_result"
    }
   ],
   "source": [
    "bfs(g,'Amine')"
   ]
  },
  {
   "cell_type": "code",
   "execution_count": 5,
   "metadata": {},
   "outputs": [
    {
     "data": {
      "text/plain": [
       "['Imran', 'Steven', 'Wassim', 'Amine', 'Elena', 'Mike', 'Nick', 'Mary']"
      ]
     },
     "execution_count": 5,
     "metadata": {},
     "output_type": "execute_result"
    }
   ],
   "source": [
    "bfs(g,'Imran')"
   ]
  },
  {
   "cell_type": "code",
   "execution_count": null,
   "metadata": {},
   "outputs": [],
   "source": []
  },
  {
   "cell_type": "code",
   "execution_count": null,
   "metadata": {},
   "outputs": [],
   "source": []
  }
 ],
 "metadata": {
  "kernelspec": {
   "display_name": "Python 3",
   "language": "python",
   "name": "python3"
  },
  "language_info": {
   "codemirror_mode": {
    "name": "ipython",
    "version": 3
   },
   "file_extension": ".py",
   "mimetype": "text/x-python",
   "name": "python",
   "nbconvert_exporter": "python",
   "pygments_lexer": "ipython3",
   "version": "3.6.8"
  }
 },
 "nbformat": 4,
 "nbformat_minor": 2
}
