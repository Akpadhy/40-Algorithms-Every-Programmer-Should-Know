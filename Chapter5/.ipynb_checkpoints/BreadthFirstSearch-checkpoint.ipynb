{
 "cells": [
  {
   "cell_type": "code",
   "execution_count": 8,
   "metadata": {},
   "outputs": [],
   "source": [
    "g = dict() \n",
    "g['Amine'] = ['Wassim', 'Nick', 'Mike','Elena'] \n",
    "g['Wassim'] = ['Amine', 'Imran'] \n",
    "g['Nick'] = ['Amine'] \n",
    "g['Mike'] = ['Amine', 'Mary'] \n",
    "g['Elena'] = ['Amine'] \n",
    "g['Imran'] = ['Wassim', 'Steven'] \n",
    "g['Mary'] = ['Mike']\n",
    "g['Steven'] = ['Imran']"
   ]
  },
  {
   "cell_type": "code",
   "execution_count": 12,
   "metadata": {},
   "outputs": [],
   "source": [
    "from collections import deque     \n",
    "def breadth_first_search(graph, root):         \n",
    "    visited_vertices = list()         \n",
    "    graph_queue = deque([root])         \n",
    "    visited_vertices.append(root)         \n",
    "    node = root         \n",
    "\n",
    "    while len(graph_queue) > 0:             \n",
    "        node = graph_queue.popleft()             \n",
    "        adj_nodes = graph[node]             \n",
    "        remaining_elements=set(adj_nodes).difference(set(visited_vertices))                     \n",
    "        if len(remaining_elements) > 0:                 \n",
    "            for elem in sorted(remaining_elements):\n",
    "                visited_vertices.append(elem)\n",
    "                graph_queue.append(elem)\n",
    "    return visited_vertices"
   ]
  },
  {
   "cell_type": "code",
   "execution_count": 13,
   "metadata": {},
   "outputs": [
    {
     "data": {
      "text/plain": [
       "['Amine', 'Elena', 'Mike', 'Nick', 'Wassim', 'Mary', 'Imran', 'Steven']"
      ]
     },
     "execution_count": 13,
     "metadata": {},
     "output_type": "execute_result"
    }
   ],
   "source": [
    "breadth_first_search(g,'Amine')"
   ]
  },
  {
   "cell_type": "code",
   "execution_count": 14,
   "metadata": {},
   "outputs": [
    {
     "data": {
      "text/plain": [
       "['Imran', 'Steven', 'Wassim', 'Amine', 'Elena', 'Mike', 'Nick', 'Mary']"
      ]
     },
     "execution_count": 14,
     "metadata": {},
     "output_type": "execute_result"
    }
   ],
   "source": [
    "breadth_first_search(g,'Imran')"
   ]
  },
  {
   "cell_type": "code",
   "execution_count": null,
   "metadata": {},
   "outputs": [],
   "source": []
  }
 ],
 "metadata": {
  "kernelspec": {
   "display_name": "Python 3",
   "language": "python",
   "name": "python3"
  },
  "language_info": {
   "codemirror_mode": {
    "name": "ipython",
    "version": 3
   },
   "file_extension": ".py",
   "mimetype": "text/x-python",
   "name": "python",
   "nbconvert_exporter": "python",
   "pygments_lexer": "ipython3",
   "version": "3.6.8"
  }
 },
 "nbformat": 4,
 "nbformat_minor": 2
}
