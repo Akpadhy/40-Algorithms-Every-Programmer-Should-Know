{
 "cells": [
  {
   "cell_type": "code",
   "execution_count": 14,
   "metadata": {},
   "outputs": [],
   "source": [
    "from __future__ import print_function\n",
    "# $example on$\n",
    "from pyspark.ml import Pipeline\n",
    "from pyspark.ml.classification import DecisionTreeClassifier\n",
    "from pyspark.ml.feature import StringIndexer, VectorIndexer\n",
    "from pyspark.ml.evaluation import MulticlassClassificationEvaluator\n",
    "# $example off$\n",
    "from pyspark.sql import SparkSession"
   ]
  },
  {
   "cell_type": "code",
   "execution_count": 15,
   "metadata": {},
   "outputs": [],
   "source": [
    "if __name__ == \"__main__\":\n",
    "    spark = SparkSession\\\n",
    "        .builder\\\n",
    "        .appName(\"DecisionTreeClassificationExample\")\\\n",
    "        .getOrCreate()"
   ]
  },
  {
   "cell_type": "code",
   "execution_count": 16,
   "metadata": {},
   "outputs": [
    {
     "name": "stdout",
     "output_type": "stream",
     "text": [
      "+--------+------+---+---------------+---------+\n",
      "| User ID|Gender|Age|EstimatedSalary|Purchased|\n",
      "+--------+------+---+---------------+---------+\n",
      "|15624510|  Male| 19|          19000|        0|\n",
      "|15810944|  Male| 35|          20000|        0|\n",
      "|15668575|Female| 26|          43000|        0|\n",
      "|15603246|Female| 27|          57000|        0|\n",
      "|15804002|  Male| 19|          76000|        0|\n",
      "|15728773|  Male| 27|          58000|        0|\n",
      "|15598044|Female| 27|          84000|        0|\n",
      "|15694829|Female| 32|         150000|        1|\n",
      "|15600575|  Male| 25|          33000|        0|\n",
      "|15727311|Female| 35|          65000|        0|\n",
      "|15570769|Female| 26|          80000|        0|\n",
      "|15606274|Female| 26|          52000|        0|\n",
      "|15746139|  Male| 20|          86000|        0|\n",
      "|15704987|  Male| 32|          18000|        0|\n",
      "|15628972|  Male| 18|          82000|        0|\n",
      "|15697686|  Male| 29|          80000|        0|\n",
      "|15733883|  Male| 47|          25000|        1|\n",
      "|15617482|  Male| 45|          26000|        1|\n",
      "|15704583|  Male| 46|          28000|        1|\n",
      "|15621083|Female| 48|          29000|        1|\n",
      "+--------+------+---+---------------+---------+\n",
      "only showing top 20 rows\n",
      "\n"
     ]
    }
   ],
   "source": [
    "    # $example on$\n",
    "    # Load the data stored in LIBSVM format as a DataFrame.\n",
    "    data = spark.read.load(\"Social_Network_Ads.csv\",format=\"csv\", sep=\",\", inferSchema=\"true\", header=\"true\")\n",
    "    data.show()"
   ]
  },
  {
   "cell_type": "code",
   "execution_count": 17,
   "metadata": {},
   "outputs": [
    {
     "name": "stdout",
     "output_type": "stream",
     "text": [
      "+---+---------------+-----------+---------+\n",
      "|Age|EstimatedSalary|GenderIndex|Purchased|\n",
      "+---+---------------+-----------+---------+\n",
      "| 19|          19000|        1.0|        0|\n",
      "| 35|          20000|        1.0|        0|\n",
      "| 26|          43000|        0.0|        0|\n",
      "| 27|          57000|        0.0|        0|\n",
      "| 19|          76000|        1.0|        0|\n",
      "| 27|          58000|        1.0|        0|\n",
      "| 27|          84000|        0.0|        0|\n",
      "| 32|         150000|        0.0|        1|\n",
      "| 25|          33000|        1.0|        0|\n",
      "| 35|          65000|        0.0|        0|\n",
      "| 26|          80000|        0.0|        0|\n",
      "| 26|          52000|        0.0|        0|\n",
      "| 20|          86000|        1.0|        0|\n",
      "| 32|          18000|        1.0|        0|\n",
      "| 18|          82000|        1.0|        0|\n",
      "| 29|          80000|        1.0|        0|\n",
      "| 47|          25000|        1.0|        1|\n",
      "| 45|          26000|        1.0|        1|\n",
      "| 46|          28000|        1.0|        1|\n",
      "| 48|          29000|        0.0|        1|\n",
      "+---+---------------+-----------+---------+\n",
      "only showing top 20 rows\n",
      "\n"
     ]
    }
   ],
   "source": [
    "from pyspark.ml.feature import StringIndexer\n",
    "indexer = StringIndexer(inputCol=\"Gender\", outputCol=\"GenderIndex\")\n",
    "data = indexer.fit(data).transform(data)\n",
    "data = data.select(\"Age\",\"EstimatedSalary\",\"GenderIndex\",\"Purchased\")\n",
    "data.show()"
   ]
  },
  {
   "cell_type": "code",
   "execution_count": 18,
   "metadata": {},
   "outputs": [
    {
     "name": "stdout",
     "output_type": "stream",
     "text": [
      "+---+---------------+-------------+---------+\n",
      "|Age|EstimatedSalary|       Gender|Purchased|\n",
      "+---+---------------+-------------+---------+\n",
      "| 19|          19000|    (1,[],[])|        0|\n",
      "| 35|          20000|    (1,[],[])|        0|\n",
      "| 26|          43000|(1,[0],[1.0])|        0|\n",
      "| 27|          57000|(1,[0],[1.0])|        0|\n",
      "| 19|          76000|    (1,[],[])|        0|\n",
      "| 27|          58000|    (1,[],[])|        0|\n",
      "| 27|          84000|(1,[0],[1.0])|        0|\n",
      "| 32|         150000|(1,[0],[1.0])|        1|\n",
      "| 25|          33000|    (1,[],[])|        0|\n",
      "| 35|          65000|(1,[0],[1.0])|        0|\n",
      "| 26|          80000|(1,[0],[1.0])|        0|\n",
      "| 26|          52000|(1,[0],[1.0])|        0|\n",
      "| 20|          86000|    (1,[],[])|        0|\n",
      "| 32|          18000|    (1,[],[])|        0|\n",
      "| 18|          82000|    (1,[],[])|        0|\n",
      "| 29|          80000|    (1,[],[])|        0|\n",
      "| 47|          25000|    (1,[],[])|        1|\n",
      "| 45|          26000|    (1,[],[])|        1|\n",
      "| 46|          28000|    (1,[],[])|        1|\n",
      "| 48|          29000|(1,[0],[1.0])|        1|\n",
      "+---+---------------+-------------+---------+\n",
      "only showing top 20 rows\n",
      "\n"
     ]
    }
   ],
   "source": [
    "from pyspark.ml.feature import OneHotEncoderEstimator\n",
    "encoder = OneHotEncoderEstimator(inputCols=[\"GenderIndex\"],\n",
    "                                 outputCols=[\"Gender\"])\n",
    "model = encoder.fit(data)\n",
    "data = model.transform(data)\n",
    "data = data.select(\"Age\",\"EstimatedSalary\",\"Gender\",\"Purchased\")\n",
    "\n",
    "data.show()"
   ]
  },
  {
   "cell_type": "code",
   "execution_count": 19,
   "metadata": {},
   "outputs": [],
   "source": [
    "from pyspark.ml.linalg import Vectors\n",
    "from pyspark.ml.feature import VectorAssembler\n",
    "\n",
    "assembler = VectorAssembler(\n",
    "    inputCols=[ \"Age\", \"EstimatedSalary\",\"Gender\"],\n",
    "    outputCol=\"features\")\n",
    "\n",
    "data = assembler.transform(data)\n",
    "data=data.select(\"features\", \"Purchased\")\n"
   ]
  },
  {
   "cell_type": "code",
   "execution_count": 20,
   "metadata": {
    "scrolled": true
   },
   "outputs": [
    {
     "name": "stdout",
     "output_type": "stream",
     "text": [
      "+--------------------+-----+\n",
      "|            features|label|\n",
      "+--------------------+-----+\n",
      "|[0.02380952380952...|    0|\n",
      "|[0.40476190476190...|    0|\n",
      "|[0.19047619047619...|    0|\n",
      "|[0.21428571428571...|    0|\n",
      "|[0.02380952380952...|    0|\n",
      "|[0.21428571428571...|    0|\n",
      "|[0.21428571428571...|    0|\n",
      "|[0.33333333333333...|    1|\n",
      "|[0.16666666666666...|    0|\n",
      "|[0.40476190476190...|    0|\n",
      "|[0.19047619047619...|    0|\n",
      "|[0.19047619047619...|    0|\n",
      "|[0.04761904761904...|    0|\n",
      "|[0.33333333333333...|    0|\n",
      "|[0.0,0.4962962962...|    0|\n",
      "|[0.26190476190476...|    0|\n",
      "|[0.69047619047619...|    1|\n",
      "|[0.64285714285714...|    1|\n",
      "|[0.66666666666666...|    1|\n",
      "|[0.71428571428571...|    1|\n",
      "+--------------------+-----+\n",
      "only showing top 20 rows\n",
      "\n"
     ]
    }
   ],
   "source": [
    "from pyspark.ml.feature import MinMaxScaler\n",
    "from pyspark.ml.linalg import Vectors\n",
    "scaler = MinMaxScaler(inputCol=\"features\", outputCol=\"featuresScaled\")\n",
    "\n",
    "# Compute summary statistics and generate MinMaxScalerModel\n",
    "scalerModel = scaler.fit(data)\n",
    "\n",
    "# rescale each feature to range [min, max].\n",
    "data = scalerModel.transform(data)\n",
    "data = data.selectExpr(\"featuresScaled as features\", \"Purchased as label\")\n",
    "data.show()"
   ]
  },
  {
   "cell_type": "code",
   "execution_count": 21,
   "metadata": {},
   "outputs": [],
   "source": [
    "    # Split the data into training and test sets (30% held out for testing)\n",
    "    (trainingData, testData) = data.randomSplit([0.7, 0.3])\n",
    "\n",
    "    # Train a DecisionTree model.\n",
    "    dt = DecisionTreeClassifier(labelCol=\"label\", featuresCol=\"features\")"
   ]
  },
  {
   "cell_type": "code",
   "execution_count": 22,
   "metadata": {},
   "outputs": [],
   "source": [
    "    # Train model.  This also runs the indexers.\n",
    "    model = dt.fit(trainingData)"
   ]
  },
  {
   "cell_type": "code",
   "execution_count": 23,
   "metadata": {},
   "outputs": [],
   "source": [
    "    # Make predictions.\n",
    "    predictions = model.transform(testData)\n",
    "    "
   ]
  },
  {
   "cell_type": "code",
   "execution_count": 24,
   "metadata": {},
   "outputs": [
    {
     "name": "stdout",
     "output_type": "stream",
     "text": [
      "+----------+-----+--------------------+\n",
      "|prediction|label|            features|\n",
      "+----------+-----+--------------------+\n",
      "|       0.0|    0|[0.0,0.4962962962...|\n",
      "|       0.0|    0|[0.02380952380952...|\n",
      "|       0.0|    0|[0.02380952380952...|\n",
      "|       0.0|    0|[0.04761904761904...|\n",
      "|       0.0|    0|[0.04761904761904...|\n",
      "+----------+-----+--------------------+\n",
      "only showing top 5 rows\n",
      "\n"
     ]
    }
   ],
   "source": [
    "    # Select example rows to display.\n",
    "    predictions.select(\"prediction\", \"label\", \"features\").show(5)\n",
    "    \n",
    "    "
   ]
  },
  {
   "cell_type": "code",
   "execution_count": 25,
   "metadata": {},
   "outputs": [
    {
     "name": "stdout",
     "output_type": "stream",
     "text": [
      "Test Error = 0.0888889 \n"
     ]
    }
   ],
   "source": [
    "    # Select (prediction, true label) and compute test error\n",
    "    evaluator = MulticlassClassificationEvaluator(\n",
    "        labelCol=\"label\", predictionCol=\"prediction\", metricName=\"accuracy\")\n",
    "    accuracy = evaluator.evaluate(predictions)\n",
    "    print(\"Test Error = %g \" % (1.0 - accuracy))"
   ]
  },
  {
   "cell_type": "code",
   "execution_count": 13,
   "metadata": {},
   "outputs": [
    {
     "ename": "AttributeError",
     "evalue": "'DecisionTreeClassificationModel' object has no attribute 'stages'",
     "output_type": "error",
     "traceback": [
      "\u001b[0;31m---------------------------------------------------------------------------\u001b[0m",
      "\u001b[0;31mAttributeError\u001b[0m                            Traceback (most recent call last)",
      "\u001b[0;32m<ipython-input-13-3f74b8c1a8c8>\u001b[0m in \u001b[0;36m<module>\u001b[0;34m\u001b[0m\n\u001b[0;32m----> 1\u001b[0;31m \u001b[0mtreeModel\u001b[0m \u001b[0;34m=\u001b[0m \u001b[0mmodel\u001b[0m\u001b[0;34m.\u001b[0m\u001b[0mstages\u001b[0m\u001b[0;34m[\u001b[0m\u001b[0;36m2\u001b[0m\u001b[0;34m]\u001b[0m\u001b[0;34m\u001b[0m\u001b[0;34m\u001b[0m\u001b[0m\n\u001b[0m\u001b[1;32m      2\u001b[0m \u001b[0;31m# summary only\u001b[0m\u001b[0;34m\u001b[0m\u001b[0;34m\u001b[0m\u001b[0;34m\u001b[0m\u001b[0m\n\u001b[1;32m      3\u001b[0m \u001b[0mprint\u001b[0m\u001b[0;34m(\u001b[0m\u001b[0mtreeModel\u001b[0m\u001b[0;34m)\u001b[0m\u001b[0;34m\u001b[0m\u001b[0;34m\u001b[0m\u001b[0m\n\u001b[1;32m      4\u001b[0m \u001b[0;31m# $example off$\u001b[0m\u001b[0;34m\u001b[0m\u001b[0;34m\u001b[0m\u001b[0;34m\u001b[0m\u001b[0m\n\u001b[1;32m      5\u001b[0m \u001b[0;34m\u001b[0m\u001b[0m\n",
      "\u001b[0;31mAttributeError\u001b[0m: 'DecisionTreeClassificationModel' object has no attribute 'stages'"
     ]
    }
   ],
   "source": [
    "    treeModel = model.stages[2]\n",
    "    # summary only\n",
    "    print(treeModel)\n",
    "    # $example off$\n",
    "\n",
    "    spark.stop()"
   ]
  },
  {
   "cell_type": "code",
   "execution_count": null,
   "metadata": {},
   "outputs": [],
   "source": []
  }
 ],
 "metadata": {
  "anaconda-cloud": {},
  "kernelspec": {
   "display_name": "Python 3",
   "language": "python",
   "name": "python3"
  },
  "language_info": {
   "codemirror_mode": {
    "name": "ipython",
    "version": 3
   },
   "file_extension": ".py",
   "mimetype": "text/x-python",
   "name": "python",
   "nbconvert_exporter": "python",
   "pygments_lexer": "ipython3",
   "version": "3.7.3"
  }
 },
 "nbformat": 4,
 "nbformat_minor": 1
}
